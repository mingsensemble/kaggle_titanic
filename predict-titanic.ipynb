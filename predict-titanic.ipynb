{
 "cells": [
  {
   "cell_type": "markdown",
   "metadata": {},
   "source": [
    "# Predict Titanic Casualties\n",
    "This is my first attempt on Kaggle competition. The goal is to achieve accuracy of 80% on the testing sample.  My strategy is to understand the data and then experiment with different common methodologies."
   ]
  },
  {
   "cell_type": "markdown",
   "metadata": {},
   "source": [
    "## Exploratory Data Analysis\n",
    "The first step at data exploration is to identify the missing values."
   ]
  },
  {
   "cell_type": "code",
   "execution_count": 1,
   "metadata": {},
   "outputs": [],
   "source": [
    "import pandas as pd\n",
    "import numpy as np\n",
    "train = pd.read_csv(\"train.csv\")\n",
    "l = train.shape[0]\n",
    "\n",
    "test = pd.read_csv('test.csv')\n",
    "test['Survived'] = -1 # code unknown survived = -1\n",
    "\n",
    "all_data = pd.concat([train, test], axis = 0, ignore_index = True, sort = True)"
   ]
  },
  {
   "cell_type": "code",
   "execution_count": 2,
   "metadata": {},
   "outputs": [
    {
     "data": {
      "text/html": [
       "<div>\n",
       "<style scoped>\n",
       "    .dataframe tbody tr th:only-of-type {\n",
       "        vertical-align: middle;\n",
       "    }\n",
       "\n",
       "    .dataframe tbody tr th {\n",
       "        vertical-align: top;\n",
       "    }\n",
       "\n",
       "    .dataframe thead th {\n",
       "        text-align: right;\n",
       "    }\n",
       "</style>\n",
       "<table border=\"1\" class=\"dataframe\">\n",
       "  <thead>\n",
       "    <tr style=\"text-align: right;\">\n",
       "      <th></th>\n",
       "      <th>Age</th>\n",
       "      <th>Cabin</th>\n",
       "      <th>Embarked</th>\n",
       "      <th>Fare</th>\n",
       "      <th>Name</th>\n",
       "      <th>Parch</th>\n",
       "      <th>PassengerId</th>\n",
       "      <th>Pclass</th>\n",
       "      <th>Sex</th>\n",
       "      <th>SibSp</th>\n",
       "      <th>Survived</th>\n",
       "      <th>Ticket</th>\n",
       "    </tr>\n",
       "  </thead>\n",
       "  <tbody>\n",
       "    <tr>\n",
       "      <th>0</th>\n",
       "      <td>22.0</td>\n",
       "      <td>NaN</td>\n",
       "      <td>S</td>\n",
       "      <td>7.2500</td>\n",
       "      <td>Braund, Mr. Owen Harris</td>\n",
       "      <td>0</td>\n",
       "      <td>1</td>\n",
       "      <td>3</td>\n",
       "      <td>male</td>\n",
       "      <td>1</td>\n",
       "      <td>0</td>\n",
       "      <td>A/5 21171</td>\n",
       "    </tr>\n",
       "    <tr>\n",
       "      <th>1</th>\n",
       "      <td>38.0</td>\n",
       "      <td>C85</td>\n",
       "      <td>C</td>\n",
       "      <td>71.2833</td>\n",
       "      <td>Cumings, Mrs. John Bradley (Florence Briggs Th...</td>\n",
       "      <td>0</td>\n",
       "      <td>2</td>\n",
       "      <td>1</td>\n",
       "      <td>female</td>\n",
       "      <td>1</td>\n",
       "      <td>1</td>\n",
       "      <td>PC 17599</td>\n",
       "    </tr>\n",
       "    <tr>\n",
       "      <th>2</th>\n",
       "      <td>26.0</td>\n",
       "      <td>NaN</td>\n",
       "      <td>S</td>\n",
       "      <td>7.9250</td>\n",
       "      <td>Heikkinen, Miss. Laina</td>\n",
       "      <td>0</td>\n",
       "      <td>3</td>\n",
       "      <td>3</td>\n",
       "      <td>female</td>\n",
       "      <td>0</td>\n",
       "      <td>1</td>\n",
       "      <td>STON/O2. 3101282</td>\n",
       "    </tr>\n",
       "    <tr>\n",
       "      <th>3</th>\n",
       "      <td>35.0</td>\n",
       "      <td>C123</td>\n",
       "      <td>S</td>\n",
       "      <td>53.1000</td>\n",
       "      <td>Futrelle, Mrs. Jacques Heath (Lily May Peel)</td>\n",
       "      <td>0</td>\n",
       "      <td>4</td>\n",
       "      <td>1</td>\n",
       "      <td>female</td>\n",
       "      <td>1</td>\n",
       "      <td>1</td>\n",
       "      <td>113803</td>\n",
       "    </tr>\n",
       "    <tr>\n",
       "      <th>4</th>\n",
       "      <td>35.0</td>\n",
       "      <td>NaN</td>\n",
       "      <td>S</td>\n",
       "      <td>8.0500</td>\n",
       "      <td>Allen, Mr. William Henry</td>\n",
       "      <td>0</td>\n",
       "      <td>5</td>\n",
       "      <td>3</td>\n",
       "      <td>male</td>\n",
       "      <td>0</td>\n",
       "      <td>0</td>\n",
       "      <td>373450</td>\n",
       "    </tr>\n",
       "  </tbody>\n",
       "</table>\n",
       "</div>"
      ],
      "text/plain": [
       "    Age Cabin Embarked     Fare  \\\n",
       "0  22.0   NaN        S   7.2500   \n",
       "1  38.0   C85        C  71.2833   \n",
       "2  26.0   NaN        S   7.9250   \n",
       "3  35.0  C123        S  53.1000   \n",
       "4  35.0   NaN        S   8.0500   \n",
       "\n",
       "                                                Name  Parch  PassengerId  \\\n",
       "0                            Braund, Mr. Owen Harris      0            1   \n",
       "1  Cumings, Mrs. John Bradley (Florence Briggs Th...      0            2   \n",
       "2                             Heikkinen, Miss. Laina      0            3   \n",
       "3       Futrelle, Mrs. Jacques Heath (Lily May Peel)      0            4   \n",
       "4                           Allen, Mr. William Henry      0            5   \n",
       "\n",
       "   Pclass     Sex  SibSp  Survived            Ticket  \n",
       "0       3    male      1         0         A/5 21171  \n",
       "1       1  female      1         1          PC 17599  \n",
       "2       3  female      0         1  STON/O2. 3101282  \n",
       "3       1  female      1         1            113803  \n",
       "4       3    male      0         0            373450  "
      ]
     },
     "execution_count": 2,
     "metadata": {},
     "output_type": "execute_result"
    }
   ],
   "source": [
    "all_data.head()"
   ]
  },
  {
   "cell_type": "markdown",
   "metadata": {},
   "source": [
    "Four fields in the whole sampels of both training and testing samples have missing values.  I decide to discretize **Age** variable and impute the missing **Fare**.  **Cabin** and **Embarked** are categorical; therefore, an Unknown category is assigned. "
   ]
  },
  {
   "cell_type": "code",
   "execution_count": 3,
   "metadata": {},
   "outputs": [
    {
     "data": {
      "text/plain": [
       "Age             263\n",
       "Cabin          1014\n",
       "Embarked          2\n",
       "Fare              1\n",
       "Name              0\n",
       "Parch             0\n",
       "PassengerId       0\n",
       "Pclass            0\n",
       "Sex               0\n",
       "SibSp             0\n",
       "Survived          0\n",
       "Ticket            0\n",
       "dtype: int64"
      ]
     },
     "execution_count": 3,
     "metadata": {},
     "output_type": "execute_result"
    }
   ],
   "source": [
    "all_data.isna().sum()"
   ]
  },
  {
   "cell_type": "markdown",
   "metadata": {},
   "source": [
    "### Ticket\n",
    "**Ticket** is one of the most interesting field to investigate.  Firstly, there seems to be no unified pattern in the ticket number.  However, a quick data summary reveals that many passengers have the same ticket number.  Fares seem to be calculated by the total fares of the same ticket number.  It may be more informative to use **Fare per Ticket** as a feature."
   ]
  },
  {
   "cell_type": "code",
   "execution_count": 4,
   "metadata": {},
   "outputs": [
    {
     "data": {
      "text/html": [
       "<div>\n",
       "<style scoped>\n",
       "    .dataframe tbody tr th:only-of-type {\n",
       "        vertical-align: middle;\n",
       "    }\n",
       "\n",
       "    .dataframe tbody tr th {\n",
       "        vertical-align: top;\n",
       "    }\n",
       "\n",
       "    .dataframe thead th {\n",
       "        text-align: right;\n",
       "    }\n",
       "</style>\n",
       "<table border=\"1\" class=\"dataframe\">\n",
       "  <thead>\n",
       "    <tr style=\"text-align: right;\">\n",
       "      <th></th>\n",
       "      <th>Age</th>\n",
       "      <th>Cabin</th>\n",
       "      <th>Embarked</th>\n",
       "      <th>Fare</th>\n",
       "      <th>Name</th>\n",
       "      <th>Parch</th>\n",
       "      <th>PassengerId</th>\n",
       "      <th>Pclass</th>\n",
       "      <th>Sex</th>\n",
       "      <th>SibSp</th>\n",
       "      <th>Survived</th>\n",
       "      <th>Ticket</th>\n",
       "    </tr>\n",
       "  </thead>\n",
       "  <tbody>\n",
       "    <tr>\n",
       "      <th>504</th>\n",
       "      <td>16.0</td>\n",
       "      <td>B79</td>\n",
       "      <td>S</td>\n",
       "      <td>86.5000</td>\n",
       "      <td>Maioni, Miss. Roberta</td>\n",
       "      <td>0</td>\n",
       "      <td>505</td>\n",
       "      <td>1</td>\n",
       "      <td>female</td>\n",
       "      <td>0</td>\n",
       "      <td>1</td>\n",
       "      <td>110152</td>\n",
       "    </tr>\n",
       "    <tr>\n",
       "      <th>257</th>\n",
       "      <td>30.0</td>\n",
       "      <td>B77</td>\n",
       "      <td>S</td>\n",
       "      <td>86.5000</td>\n",
       "      <td>Cherry, Miss. Gladys</td>\n",
       "      <td>0</td>\n",
       "      <td>258</td>\n",
       "      <td>1</td>\n",
       "      <td>female</td>\n",
       "      <td>0</td>\n",
       "      <td>1</td>\n",
       "      <td>110152</td>\n",
       "    </tr>\n",
       "    <tr>\n",
       "      <th>759</th>\n",
       "      <td>33.0</td>\n",
       "      <td>B77</td>\n",
       "      <td>S</td>\n",
       "      <td>86.5000</td>\n",
       "      <td>Rothes, the Countess. of (Lucy Noel Martha Dye...</td>\n",
       "      <td>0</td>\n",
       "      <td>760</td>\n",
       "      <td>1</td>\n",
       "      <td>female</td>\n",
       "      <td>0</td>\n",
       "      <td>1</td>\n",
       "      <td>110152</td>\n",
       "    </tr>\n",
       "    <tr>\n",
       "      <th>585</th>\n",
       "      <td>18.0</td>\n",
       "      <td>E68</td>\n",
       "      <td>S</td>\n",
       "      <td>79.6500</td>\n",
       "      <td>Taussig, Miss. Ruth</td>\n",
       "      <td>2</td>\n",
       "      <td>586</td>\n",
       "      <td>1</td>\n",
       "      <td>female</td>\n",
       "      <td>0</td>\n",
       "      <td>1</td>\n",
       "      <td>110413</td>\n",
       "    </tr>\n",
       "    <tr>\n",
       "      <th>262</th>\n",
       "      <td>52.0</td>\n",
       "      <td>E67</td>\n",
       "      <td>S</td>\n",
       "      <td>79.6500</td>\n",
       "      <td>Taussig, Mr. Emil</td>\n",
       "      <td>1</td>\n",
       "      <td>263</td>\n",
       "      <td>1</td>\n",
       "      <td>male</td>\n",
       "      <td>1</td>\n",
       "      <td>0</td>\n",
       "      <td>110413</td>\n",
       "    </tr>\n",
       "    <tr>\n",
       "      <th>558</th>\n",
       "      <td>39.0</td>\n",
       "      <td>E67</td>\n",
       "      <td>S</td>\n",
       "      <td>79.6500</td>\n",
       "      <td>Taussig, Mrs. Emil (Tillie Mandelbaum)</td>\n",
       "      <td>1</td>\n",
       "      <td>559</td>\n",
       "      <td>1</td>\n",
       "      <td>female</td>\n",
       "      <td>1</td>\n",
       "      <td>1</td>\n",
       "      <td>110413</td>\n",
       "    </tr>\n",
       "    <tr>\n",
       "      <th>110</th>\n",
       "      <td>47.0</td>\n",
       "      <td>C110</td>\n",
       "      <td>S</td>\n",
       "      <td>52.0000</td>\n",
       "      <td>Porter, Mr. Walter Chamberlain</td>\n",
       "      <td>0</td>\n",
       "      <td>111</td>\n",
       "      <td>1</td>\n",
       "      <td>male</td>\n",
       "      <td>0</td>\n",
       "      <td>0</td>\n",
       "      <td>110465</td>\n",
       "    </tr>\n",
       "    <tr>\n",
       "      <th>475</th>\n",
       "      <td>NaN</td>\n",
       "      <td>A14</td>\n",
       "      <td>S</td>\n",
       "      <td>52.0000</td>\n",
       "      <td>Clifford, Mr. George Quincy</td>\n",
       "      <td>0</td>\n",
       "      <td>476</td>\n",
       "      <td>1</td>\n",
       "      <td>male</td>\n",
       "      <td>0</td>\n",
       "      <td>0</td>\n",
       "      <td>110465</td>\n",
       "    </tr>\n",
       "    <tr>\n",
       "      <th>1226</th>\n",
       "      <td>30.0</td>\n",
       "      <td>C106</td>\n",
       "      <td>S</td>\n",
       "      <td>26.0000</td>\n",
       "      <td>Maguire, Mr. John Edward</td>\n",
       "      <td>0</td>\n",
       "      <td>1227</td>\n",
       "      <td>1</td>\n",
       "      <td>male</td>\n",
       "      <td>0</td>\n",
       "      <td>-1</td>\n",
       "      <td>110469</td>\n",
       "    </tr>\n",
       "    <tr>\n",
       "      <th>1049</th>\n",
       "      <td>42.0</td>\n",
       "      <td>D22</td>\n",
       "      <td>S</td>\n",
       "      <td>26.5500</td>\n",
       "      <td>Borebank, Mr. John James</td>\n",
       "      <td>0</td>\n",
       "      <td>1050</td>\n",
       "      <td>1</td>\n",
       "      <td>male</td>\n",
       "      <td>0</td>\n",
       "      <td>-1</td>\n",
       "      <td>110489</td>\n",
       "    </tr>\n",
       "    <tr>\n",
       "      <th>430</th>\n",
       "      <td>28.0</td>\n",
       "      <td>C52</td>\n",
       "      <td>S</td>\n",
       "      <td>26.5500</td>\n",
       "      <td>Bjornstrom-Steffansson, Mr. Mauritz Hakan</td>\n",
       "      <td>0</td>\n",
       "      <td>431</td>\n",
       "      <td>1</td>\n",
       "      <td>male</td>\n",
       "      <td>0</td>\n",
       "      <td>1</td>\n",
       "      <td>110564</td>\n",
       "    </tr>\n",
       "    <tr>\n",
       "      <th>366</th>\n",
       "      <td>60.0</td>\n",
       "      <td>D37</td>\n",
       "      <td>C</td>\n",
       "      <td>75.2500</td>\n",
       "      <td>Warren, Mrs. Frank Manley (Anna Sophia Atkinson)</td>\n",
       "      <td>0</td>\n",
       "      <td>367</td>\n",
       "      <td>1</td>\n",
       "      <td>female</td>\n",
       "      <td>1</td>\n",
       "      <td>1</td>\n",
       "      <td>110813</td>\n",
       "    </tr>\n",
       "    <tr>\n",
       "      <th>1127</th>\n",
       "      <td>64.0</td>\n",
       "      <td>D37</td>\n",
       "      <td>C</td>\n",
       "      <td>75.2500</td>\n",
       "      <td>Warren, Mr. Frank Manley</td>\n",
       "      <td>0</td>\n",
       "      <td>1128</td>\n",
       "      <td>1</td>\n",
       "      <td>male</td>\n",
       "      <td>1</td>\n",
       "      <td>-1</td>\n",
       "      <td>110813</td>\n",
       "    </tr>\n",
       "    <tr>\n",
       "      <th>1082</th>\n",
       "      <td>NaN</td>\n",
       "      <td>NaN</td>\n",
       "      <td>S</td>\n",
       "      <td>26.0000</td>\n",
       "      <td>Salomon, Mr. Abraham L</td>\n",
       "      <td>0</td>\n",
       "      <td>1083</td>\n",
       "      <td>1</td>\n",
       "      <td>male</td>\n",
       "      <td>0</td>\n",
       "      <td>-1</td>\n",
       "      <td>111163</td>\n",
       "    </tr>\n",
       "    <tr>\n",
       "      <th>170</th>\n",
       "      <td>61.0</td>\n",
       "      <td>B19</td>\n",
       "      <td>S</td>\n",
       "      <td>33.5000</td>\n",
       "      <td>Van der hoef, Mr. Wyckoff</td>\n",
       "      <td>0</td>\n",
       "      <td>171</td>\n",
       "      <td>1</td>\n",
       "      <td>male</td>\n",
       "      <td>0</td>\n",
       "      <td>0</td>\n",
       "      <td>111240</td>\n",
       "    </tr>\n",
       "    <tr>\n",
       "      <th>462</th>\n",
       "      <td>47.0</td>\n",
       "      <td>E63</td>\n",
       "      <td>S</td>\n",
       "      <td>38.5000</td>\n",
       "      <td>Gee, Mr. Arthur H</td>\n",
       "      <td>0</td>\n",
       "      <td>463</td>\n",
       "      <td>1</td>\n",
       "      <td>male</td>\n",
       "      <td>0</td>\n",
       "      <td>0</td>\n",
       "      <td>111320</td>\n",
       "    </tr>\n",
       "    <tr>\n",
       "      <th>329</th>\n",
       "      <td>16.0</td>\n",
       "      <td>B18</td>\n",
       "      <td>C</td>\n",
       "      <td>57.9792</td>\n",
       "      <td>Hippach, Miss. Jean Gertrude</td>\n",
       "      <td>1</td>\n",
       "      <td>330</td>\n",
       "      <td>1</td>\n",
       "      <td>female</td>\n",
       "      <td>0</td>\n",
       "      <td>1</td>\n",
       "      <td>111361</td>\n",
       "    </tr>\n",
       "    <tr>\n",
       "      <th>523</th>\n",
       "      <td>44.0</td>\n",
       "      <td>B18</td>\n",
       "      <td>C</td>\n",
       "      <td>57.9792</td>\n",
       "      <td>Hippach, Mrs. Louis Albert (Ida Sophia Fischer)</td>\n",
       "      <td>1</td>\n",
       "      <td>524</td>\n",
       "      <td>1</td>\n",
       "      <td>female</td>\n",
       "      <td>0</td>\n",
       "      <td>1</td>\n",
       "      <td>111361</td>\n",
       "    </tr>\n",
       "    <tr>\n",
       "      <th>889</th>\n",
       "      <td>26.0</td>\n",
       "      <td>C148</td>\n",
       "      <td>C</td>\n",
       "      <td>30.0000</td>\n",
       "      <td>Behr, Mr. Karl Howell</td>\n",
       "      <td>0</td>\n",
       "      <td>890</td>\n",
       "      <td>1</td>\n",
       "      <td>male</td>\n",
       "      <td>0</td>\n",
       "      <td>1</td>\n",
       "      <td>111369</td>\n",
       "    </tr>\n",
       "    <tr>\n",
       "      <th>604</th>\n",
       "      <td>35.0</td>\n",
       "      <td>NaN</td>\n",
       "      <td>C</td>\n",
       "      <td>26.5500</td>\n",
       "      <td>Homer, Mr. Harry (\"Mr E Haven\")</td>\n",
       "      <td>0</td>\n",
       "      <td>605</td>\n",
       "      <td>1</td>\n",
       "      <td>male</td>\n",
       "      <td>0</td>\n",
       "      <td>1</td>\n",
       "      <td>111426</td>\n",
       "    </tr>\n",
       "  </tbody>\n",
       "</table>\n",
       "</div>"
      ],
      "text/plain": [
       "       Age Cabin Embarked     Fare  \\\n",
       "504   16.0   B79        S  86.5000   \n",
       "257   30.0   B77        S  86.5000   \n",
       "759   33.0   B77        S  86.5000   \n",
       "585   18.0   E68        S  79.6500   \n",
       "262   52.0   E67        S  79.6500   \n",
       "558   39.0   E67        S  79.6500   \n",
       "110   47.0  C110        S  52.0000   \n",
       "475    NaN   A14        S  52.0000   \n",
       "1226  30.0  C106        S  26.0000   \n",
       "1049  42.0   D22        S  26.5500   \n",
       "430   28.0   C52        S  26.5500   \n",
       "366   60.0   D37        C  75.2500   \n",
       "1127  64.0   D37        C  75.2500   \n",
       "1082   NaN   NaN        S  26.0000   \n",
       "170   61.0   B19        S  33.5000   \n",
       "462   47.0   E63        S  38.5000   \n",
       "329   16.0   B18        C  57.9792   \n",
       "523   44.0   B18        C  57.9792   \n",
       "889   26.0  C148        C  30.0000   \n",
       "604   35.0   NaN        C  26.5500   \n",
       "\n",
       "                                                   Name  Parch  PassengerId  \\\n",
       "504                               Maioni, Miss. Roberta      0          505   \n",
       "257                                Cherry, Miss. Gladys      0          258   \n",
       "759   Rothes, the Countess. of (Lucy Noel Martha Dye...      0          760   \n",
       "585                                 Taussig, Miss. Ruth      2          586   \n",
       "262                                   Taussig, Mr. Emil      1          263   \n",
       "558              Taussig, Mrs. Emil (Tillie Mandelbaum)      1          559   \n",
       "110                      Porter, Mr. Walter Chamberlain      0          111   \n",
       "475                         Clifford, Mr. George Quincy      0          476   \n",
       "1226                           Maguire, Mr. John Edward      0         1227   \n",
       "1049                           Borebank, Mr. John James      0         1050   \n",
       "430           Bjornstrom-Steffansson, Mr. Mauritz Hakan      0          431   \n",
       "366    Warren, Mrs. Frank Manley (Anna Sophia Atkinson)      0          367   \n",
       "1127                           Warren, Mr. Frank Manley      0         1128   \n",
       "1082                             Salomon, Mr. Abraham L      0         1083   \n",
       "170                           Van der hoef, Mr. Wyckoff      0          171   \n",
       "462                                   Gee, Mr. Arthur H      0          463   \n",
       "329                        Hippach, Miss. Jean Gertrude      1          330   \n",
       "523     Hippach, Mrs. Louis Albert (Ida Sophia Fischer)      1          524   \n",
       "889                               Behr, Mr. Karl Howell      0          890   \n",
       "604                     Homer, Mr. Harry (\"Mr E Haven\")      0          605   \n",
       "\n",
       "      Pclass     Sex  SibSp  Survived  Ticket  \n",
       "504        1  female      0         1  110152  \n",
       "257        1  female      0         1  110152  \n",
       "759        1  female      0         1  110152  \n",
       "585        1  female      0         1  110413  \n",
       "262        1    male      1         0  110413  \n",
       "558        1  female      1         1  110413  \n",
       "110        1    male      0         0  110465  \n",
       "475        1    male      0         0  110465  \n",
       "1226       1    male      0        -1  110469  \n",
       "1049       1    male      0        -1  110489  \n",
       "430        1    male      0         1  110564  \n",
       "366        1  female      1         1  110813  \n",
       "1127       1    male      1        -1  110813  \n",
       "1082       1    male      0        -1  111163  \n",
       "170        1    male      0         0  111240  \n",
       "462        1    male      0         0  111320  \n",
       "329        1  female      0         1  111361  \n",
       "523        1  female      0         1  111361  \n",
       "889        1    male      0         1  111369  \n",
       "604        1    male      0         1  111426  "
      ]
     },
     "execution_count": 4,
     "metadata": {},
     "output_type": "execute_result"
    }
   ],
   "source": [
    "all_data.sort_values(['Ticket']).head(20)"
   ]
  },
  {
   "cell_type": "code",
   "execution_count": 5,
   "metadata": {},
   "outputs": [
    {
     "data": {
      "text/plain": [
       "Ticket\n",
       "110152               3\n",
       "110413               3\n",
       "110465               2\n",
       "110469               1\n",
       "110489               1\n",
       "110564               1\n",
       "110813               2\n",
       "111163               1\n",
       "111240               1\n",
       "111320               1\n",
       "111361               2\n",
       "111369               1\n",
       "111426               1\n",
       "111427               1\n",
       "111428               1\n",
       "112050               1\n",
       "112051               1\n",
       "112052               1\n",
       "112053               1\n",
       "112058               2\n",
       "112059               1\n",
       "112277               1\n",
       "112377               1\n",
       "112378               2\n",
       "112379               1\n",
       "112901               1\n",
       "113028               1\n",
       "113038               1\n",
       "113043               1\n",
       "113044               1\n",
       "                    ..\n",
       "STON/O 2. 3101273    1\n",
       "STON/O 2. 3101274    1\n",
       "STON/O 2. 3101275    1\n",
       "STON/O 2. 3101280    1\n",
       "STON/O 2. 3101285    1\n",
       "STON/O 2. 3101286    1\n",
       "STON/O 2. 3101288    1\n",
       "STON/O 2. 3101289    1\n",
       "STON/O 2. 3101291    1\n",
       "STON/O 2. 3101292    1\n",
       "STON/O 2. 3101293    1\n",
       "STON/O 2. 3101294    1\n",
       "STON/O2. 3101270     1\n",
       "STON/O2. 3101271     1\n",
       "STON/O2. 3101279     2\n",
       "STON/O2. 3101282     1\n",
       "STON/O2. 3101283     1\n",
       "STON/O2. 3101290     1\n",
       "STON/OQ. 369943      1\n",
       "SW/PP 751            1\n",
       "W./C. 14258          1\n",
       "W./C. 14260          1\n",
       "W./C. 14263          1\n",
       "W./C. 14266          1\n",
       "W./C. 6607           4\n",
       "W./C. 6608           5\n",
       "W./C. 6609           1\n",
       "W.E.P. 5734          2\n",
       "W/C 14208            1\n",
       "WE/P 5735            2\n",
       "Name: ticket_counts, Length: 929, dtype: int64"
      ]
     },
     "execution_count": 5,
     "metadata": {},
     "output_type": "execute_result"
    }
   ],
   "source": [
    "ticket_tab = all_data.groupby(['Ticket']).size()\n",
    "ticket_tab.rename('ticket_counts', inplace = True)"
   ]
  },
  {
   "cell_type": "code",
   "execution_count": 6,
   "metadata": {},
   "outputs": [],
   "source": [
    "all_data = all_data.join(ticket_tab, on = 'Ticket').sort_values(['Ticket'])"
   ]
  },
  {
   "cell_type": "code",
   "execution_count": 7,
   "metadata": {},
   "outputs": [],
   "source": [
    "all_data['fare_per_ticket'] = all_data['Fare']/all_data['ticket_counts']"
   ]
  },
  {
   "cell_type": "markdown",
   "metadata": {},
   "source": [
    "## Cabin\n",
    "Assuming **Cabin** starting with the same letter should be close to each other, I define a new feature **deck** to capture this assumption in the data.  **deck** is defined as the first letter of **Cabin**."
   ]
  },
  {
   "cell_type": "code",
   "execution_count": 8,
   "metadata": {},
   "outputs": [],
   "source": [
    "all_data.loc[all_data['Cabin'].isna(), 'Cabin'] = 'Unknown'\n",
    "all_data['deck'] = [x[0] if x != 'Unknown' else 'Unknown' for x in all_data['Cabin']]"
   ]
  },
  {
   "cell_type": "code",
   "execution_count": 9,
   "metadata": {},
   "outputs": [
    {
     "data": {
      "image/png": "[encoded data removed]",
      "text/plain": [
       "<Figure size 432x288 with 1 Axes>"
      ]
     },
     "metadata": {},
     "output_type": "display_data"
    }
   ],
   "source": [
    "plt_df = all_data.loc[all_data['Survived'] != -1, ['deck', 'Survived']].groupby(['deck']).mean()\n",
    "from matplotlib import pyplot as plt\n",
    "plt.bar(plt_df.index, plt_df['Survived'])\n",
    "plt.xlabel('Deck')\n",
    "plt.ylabel('Survival Rate')\n",
    "plt.show()"
   ]
  },
  {
   "cell_type": "markdown",
   "metadata": {},
   "source": [
    "## Title\n",
    "**Name** is another field I have not used yet.  I extract the title in the name and then combine different titles into **Mr.**, **Mrs.**, **Ms.**, and **Master.**. "
   ]
  },
  {
   "cell_type": "code",
   "execution_count": 10,
   "metadata": {},
   "outputs": [],
   "source": [
    "title = []\n",
    "for j in range(len(all_data['Name'])):\n",
    "    title.append([w for w in all_data['Name'][j].split() if w.endswith('.')][0])\n",
    "all_data['title'] = title\n",
    "\n",
    "# group titles\n",
    "mapping = {'Mlle.': 'Miss.', 'Major.': 'Mr.', 'Col.': 'Mr.', 'Sir.': 'Mr.',\n",
    "           'Don.': 'Mr.', 'Mme.': 'Miss.', 'Jonkheer.': 'Mr.', 'Lady.': 'Mrs.',\n",
    "           'Capt.': 'Mr.', 'Countess.': 'Mrs.', 'Ms.': 'Miss.', 'Dona.': 'Mrs.', 'Rev.': 'Mr.',}\n",
    "all_data.replace({'title': mapping}, inplace = True)\n",
    "# Dr. is ambiguous in gender\n",
    "all_data.loc[[x == \"Dr.\" and y == \"female\" for x, y in zip(all_data['title'], all_data['Sex'])], \"title\"] = \"Mrs.\"\n",
    "all_data.loc[[x == \"Dr.\" and y == \"male\" for x, y in zip(all_data['title'], all_data['Sex'])], \"title\"] = \"Mr.\""
   ]
  },
  {
   "cell_type": "code",
   "execution_count": 11,
   "metadata": {},
   "outputs": [
    {
     "data": {
      "image/png": "[encoded data removed]",
      "text/plain": [
       "<Figure size 432x288 with 1 Axes>"
      ]
     },
     "metadata": {},
     "output_type": "display_data"
    }
   ],
   "source": [
    "plt_df = all_data.loc[all_data['Survived'] != -1, ['title', 'Survived']].groupby('title').mean()\n",
    "from matplotlib import pyplot as plt\n",
    "plt.bar(plt_df.index, plt_df['Survived'])\n",
    "plt.xlabel('Title')\n",
    "plt.ylabel('Survival Rate')\n",
    "plt.show()"
   ]
  },
  {
   "cell_type": "markdown",
   "metadata": {},
   "source": [
    "## Age\n",
    "Two strategies can be employed to deal with missing **Age**.  We can impute missing ages and treat **Age** as a numerical feature.  Or we can impute any number and discretize **Age** so that the imputed number means missing.  I adopt the second strategy in this exercise."
   ]
  },
  {
   "cell_type": "code",
   "execution_count": 12,
   "metadata": {},
   "outputs": [],
   "source": [
    "# replace missing age with -99\n",
    "all_data.loc[all_data['Age'].isna(), 'Age'] = -99"
   ]
  },
  {
   "cell_type": "code",
   "execution_count": 13,
   "metadata": {},
   "outputs": [
    {
     "data": {
      "text/plain": [
       "age_group\n",
       "-99    263\n",
       " 1      56\n",
       " 2      30\n",
       " 3      29\n",
       " 4     133\n",
       " 5     195\n",
       " 6     166\n",
       " 7     115\n",
       " 8      95\n",
       " 9      72\n",
       " 10     60\n",
       " 11     36\n",
       " 12     26\n",
       " 13     23\n",
       " 14      4\n",
       " 15      4\n",
       " 16      2\n",
       "dtype: int64"
      ]
     },
     "execution_count": 13,
     "metadata": {},
     "output_type": "execute_result"
    }
   ],
   "source": [
    "import math\n",
    "all_data['age_group'] = [math.ceil(x/5) if x != -99 else -99 for x in all_data['Age']]\n",
    "all_data.groupby(['age_group']).size()"
   ]
  },
  {
   "cell_type": "code",
   "execution_count": 14,
   "metadata": {},
   "outputs": [],
   "source": [
    "plt_data = all_data[all_data['Survived'] != -1]\n",
    "age_surv = plt_data.loc[plt_data['Survived'] == 1, 'Age']\n",
    "age_nosurv = plt_data.loc[plt_data['Survived'] == 0, 'Age']"
   ]
  },
  {
   "cell_type": "markdown",
   "metadata": {},
   "source": [
    "The following graphic compares the survival rates for different ages.  Children seems to have a higher survival rate while older people most likely did not make it."
   ]
  },
  {
   "cell_type": "code",
   "execution_count": 15,
   "metadata": {},
   "outputs": [
    {
     "data": {
      "image/png": "[encoded data removed]",
      "text/plain": [
       "<Figure size 432x288 with 1 Axes>"
      ]
     },
     "metadata": {},
     "output_type": "display_data"
    }
   ],
   "source": [
    "from matplotlib import pyplot as plt\n",
    "plt.hist(age_surv, bins = int(80/1), color = 'r', label = 'Survived', alpha = 0.5)\n",
    "plt.hist(age_nosurv, bins = int(80/1), color = 'b', label = 'Not Survived', alpha =0.5)\n",
    "plt.legend(loc = 'upper right')\n",
    "plt.show()"
   ]
  },
  {
   "cell_type": "markdown",
   "metadata": {},
   "source": [
    "## Embarked"
   ]
  },
  {
   "cell_type": "code",
   "execution_count": 16,
   "metadata": {},
   "outputs": [],
   "source": [
    "all_data.loc[all_data['Embarked'].isna(), 'Embarked'] = 'Unknown'"
   ]
  },
  {
   "cell_type": "markdown",
   "metadata": {},
   "source": [
    "## Fare\n",
    "One missing fare in the testing dataset. I impute it based on its class and where he boarded the ship."
   ]
  },
  {
   "cell_type": "code",
   "execution_count": 17,
   "metadata": {},
   "outputs": [
    {
     "data": {
      "text/html": [
       "<div>\n",
       "<style scoped>\n",
       "    .dataframe tbody tr th:only-of-type {\n",
       "        vertical-align: middle;\n",
       "    }\n",
       "\n",
       "    .dataframe tbody tr th {\n",
       "        vertical-align: top;\n",
       "    }\n",
       "\n",
       "    .dataframe thead th {\n",
       "        text-align: right;\n",
       "    }\n",
       "</style>\n",
       "<table border=\"1\" class=\"dataframe\">\n",
       "  <thead>\n",
       "    <tr style=\"text-align: right;\">\n",
       "      <th></th>\n",
       "      <th>Age</th>\n",
       "      <th>Cabin</th>\n",
       "      <th>Embarked</th>\n",
       "      <th>Fare</th>\n",
       "      <th>Name</th>\n",
       "      <th>Parch</th>\n",
       "      <th>PassengerId</th>\n",
       "      <th>Pclass</th>\n",
       "      <th>Sex</th>\n",
       "      <th>SibSp</th>\n",
       "      <th>Survived</th>\n",
       "      <th>Ticket</th>\n",
       "      <th>ticket_counts</th>\n",
       "      <th>fare_per_ticket</th>\n",
       "      <th>deck</th>\n",
       "      <th>title</th>\n",
       "      <th>age_group</th>\n",
       "    </tr>\n",
       "  </thead>\n",
       "  <tbody>\n",
       "    <tr>\n",
       "      <th>1043</th>\n",
       "      <td>60.5</td>\n",
       "      <td>Unknown</td>\n",
       "      <td>S</td>\n",
       "      <td>NaN</td>\n",
       "      <td>Storey, Mr. Thomas</td>\n",
       "      <td>0</td>\n",
       "      <td>1044</td>\n",
       "      <td>3</td>\n",
       "      <td>male</td>\n",
       "      <td>0</td>\n",
       "      <td>-1</td>\n",
       "      <td>3701</td>\n",
       "      <td>1</td>\n",
       "      <td>NaN</td>\n",
       "      <td>Unknown</td>\n",
       "      <td>Mr.</td>\n",
       "      <td>13</td>\n",
       "    </tr>\n",
       "  </tbody>\n",
       "</table>\n",
       "</div>"
      ],
      "text/plain": [
       "       Age    Cabin Embarked  Fare                Name  Parch  PassengerId  \\\n",
       "1043  60.5  Unknown        S   NaN  Storey, Mr. Thomas      0         1044   \n",
       "\n",
       "      Pclass   Sex  SibSp  Survived Ticket  ticket_counts  fare_per_ticket  \\\n",
       "1043       3  male      0        -1   3701              1              NaN   \n",
       "\n",
       "         deck title  age_group  \n",
       "1043  Unknown   Mr.         13  "
      ]
     },
     "execution_count": 17,
     "metadata": {},
     "output_type": "execute_result"
    }
   ],
   "source": [
    "all_data.loc[all_data['Fare'].isna(), :]"
   ]
  },
  {
   "cell_type": "markdown",
   "metadata": {},
   "source": [
    "Use the median fare per ticket of people embarking from S and in Pclass 3 to impute."
   ]
  },
  {
   "cell_type": "code",
   "execution_count": 18,
   "metadata": {},
   "outputs": [],
   "source": [
    "fare_tab = all_data[['Pclass', 'Embarked', 'fare_per_ticket']].groupby(['Pclass', 'Embarked']).median()"
   ]
  },
  {
   "cell_type": "code",
   "execution_count": 19,
   "metadata": {},
   "outputs": [],
   "source": [
    "all_data.loc[all_data['Fare'].isna(), 'Fare'] = fare_tab['fare_per_ticket'][3]['S']\n",
    "all_data.loc[all_data['fare_per_ticket'].isna(), 'fare_per_ticket'] = fare_tab['fare_per_ticket'][3]['S']"
   ]
  },
  {
   "cell_type": "markdown",
   "metadata": {},
   "source": [
    "## Family Size\n",
    "The difference between family size and the ticket counts can be used to infer whether a nanny or a servant traveled with the family."
   ]
  },
  {
   "cell_type": "code",
   "execution_count": 20,
   "metadata": {},
   "outputs": [
    {
     "data": {
      "text/html": [
       "<div>\n",
       "<style scoped>\n",
       "    .dataframe tbody tr th:only-of-type {\n",
       "        vertical-align: middle;\n",
       "    }\n",
       "\n",
       "    .dataframe tbody tr th {\n",
       "        vertical-align: top;\n",
       "    }\n",
       "\n",
       "    .dataframe thead th {\n",
       "        text-align: right;\n",
       "    }\n",
       "</style>\n",
       "<table border=\"1\" class=\"dataframe\">\n",
       "  <thead>\n",
       "    <tr style=\"text-align: right;\">\n",
       "      <th></th>\n",
       "      <th>family_size</th>\n",
       "      <th>ticket_counts</th>\n",
       "    </tr>\n",
       "  </thead>\n",
       "  <tbody>\n",
       "    <tr>\n",
       "      <th>504</th>\n",
       "      <td>1</td>\n",
       "      <td>3</td>\n",
       "    </tr>\n",
       "    <tr>\n",
       "      <th>257</th>\n",
       "      <td>1</td>\n",
       "      <td>3</td>\n",
       "    </tr>\n",
       "    <tr>\n",
       "      <th>759</th>\n",
       "      <td>1</td>\n",
       "      <td>3</td>\n",
       "    </tr>\n",
       "    <tr>\n",
       "      <th>585</th>\n",
       "      <td>3</td>\n",
       "      <td>3</td>\n",
       "    </tr>\n",
       "    <tr>\n",
       "      <th>262</th>\n",
       "      <td>3</td>\n",
       "      <td>3</td>\n",
       "    </tr>\n",
       "    <tr>\n",
       "      <th>558</th>\n",
       "      <td>3</td>\n",
       "      <td>3</td>\n",
       "    </tr>\n",
       "    <tr>\n",
       "      <th>110</th>\n",
       "      <td>1</td>\n",
       "      <td>2</td>\n",
       "    </tr>\n",
       "    <tr>\n",
       "      <th>475</th>\n",
       "      <td>1</td>\n",
       "      <td>2</td>\n",
       "    </tr>\n",
       "    <tr>\n",
       "      <th>1226</th>\n",
       "      <td>1</td>\n",
       "      <td>1</td>\n",
       "    </tr>\n",
       "    <tr>\n",
       "      <th>1049</th>\n",
       "      <td>1</td>\n",
       "      <td>1</td>\n",
       "    </tr>\n",
       "    <tr>\n",
       "      <th>430</th>\n",
       "      <td>1</td>\n",
       "      <td>1</td>\n",
       "    </tr>\n",
       "    <tr>\n",
       "      <th>366</th>\n",
       "      <td>2</td>\n",
       "      <td>2</td>\n",
       "    </tr>\n",
       "    <tr>\n",
       "      <th>1127</th>\n",
       "      <td>2</td>\n",
       "      <td>2</td>\n",
       "    </tr>\n",
       "    <tr>\n",
       "      <th>1082</th>\n",
       "      <td>1</td>\n",
       "      <td>1</td>\n",
       "    </tr>\n",
       "    <tr>\n",
       "      <th>170</th>\n",
       "      <td>1</td>\n",
       "      <td>1</td>\n",
       "    </tr>\n",
       "    <tr>\n",
       "      <th>462</th>\n",
       "      <td>1</td>\n",
       "      <td>1</td>\n",
       "    </tr>\n",
       "    <tr>\n",
       "      <th>329</th>\n",
       "      <td>2</td>\n",
       "      <td>2</td>\n",
       "    </tr>\n",
       "    <tr>\n",
       "      <th>523</th>\n",
       "      <td>2</td>\n",
       "      <td>2</td>\n",
       "    </tr>\n",
       "    <tr>\n",
       "      <th>889</th>\n",
       "      <td>1</td>\n",
       "      <td>1</td>\n",
       "    </tr>\n",
       "    <tr>\n",
       "      <th>604</th>\n",
       "      <td>1</td>\n",
       "      <td>1</td>\n",
       "    </tr>\n",
       "  </tbody>\n",
       "</table>\n",
       "</div>"
      ],
      "text/plain": [
       "      family_size  ticket_counts\n",
       "504             1              3\n",
       "257             1              3\n",
       "759             1              3\n",
       "585             3              3\n",
       "262             3              3\n",
       "558             3              3\n",
       "110             1              2\n",
       "475             1              2\n",
       "1226            1              1\n",
       "1049            1              1\n",
       "430             1              1\n",
       "366             2              2\n",
       "1127            2              2\n",
       "1082            1              1\n",
       "170             1              1\n",
       "462             1              1\n",
       "329             2              2\n",
       "523             2              2\n",
       "889             1              1\n",
       "604             1              1"
      ]
     },
     "execution_count": 20,
     "metadata": {},
     "output_type": "execute_result"
    }
   ],
   "source": [
    "all_data['family_size'] = all_data['Parch'] + all_data['SibSp'] + 1\n",
    "all_data[['family_size', 'ticket_counts']].head(20)"
   ]
  },
  {
   "cell_type": "code",
   "execution_count": 21,
   "metadata": {},
   "outputs": [],
   "source": [
    "all_data['companions'] = all_data['ticket_counts'] - all_data['family_size']"
   ]
  },
  {
   "cell_type": "markdown",
   "metadata": {},
   "source": [
    "## Start Training Models"
   ]
  },
  {
   "cell_type": "code",
   "execution_count": 22,
   "metadata": {},
   "outputs": [],
   "source": [
    "test_ix = np.where(all_data['Survived'] == -1)[0]\n",
    "train_ix = np.where(all_data['Survived'] != -1)[0]"
   ]
  },
  {
   "cell_type": "markdown",
   "metadata": {},
   "source": [
    "### Define Variables"
   ]
  },
  {
   "cell_type": "code",
   "execution_count": 23,
   "metadata": {},
   "outputs": [
    {
     "name": "stdout",
     "output_type": "stream",
     "text": [
      "Index(['Age', 'Cabin', 'Embarked', 'Fare', 'Name', 'Parch', 'PassengerId',\n",
      "       'Pclass', 'Sex', 'SibSp', 'Survived', 'Ticket', 'ticket_counts',\n",
      "       'fare_per_ticket', 'deck', 'title', 'age_group', 'family_size',\n",
      "       'companions'],\n",
      "      dtype='object')\n"
     ]
    }
   ],
   "source": [
    "print(all_data.columns)\n",
    "var_cat = ['Embarked',  'Pclass', 'Sex', 'deck', 'title', 'age_group']\n",
    "var_num = ['Parch', 'SibSp', 'fare_per_ticket', 'family_size', 'companions', 'ticket_counts']"
   ]
  },
  {
   "cell_type": "markdown",
   "metadata": {},
   "source": [
    "### Data Preprocessing"
   ]
  },
  {
   "cell_type": "code",
   "execution_count": 24,
   "metadata": {},
   "outputs": [],
   "source": [
    "from sklearn.preprocessing import LabelEncoder, OneHotEncoder, StandardScaler\n",
    "\n",
    "def process_data(data, var_num, var_cat):\n",
    "    lst = []\n",
    "    for i in range(len(var_cat)):\n",
    "        encoder = LabelEncoder()\n",
    "        encoded = encoder.fit_transform(data[var_cat[i]].values)\n",
    "        encoder = OneHotEncoder()\n",
    "        lst.append(encoder.fit_transform(encoded.reshape(-1, 1)).toarray())\n",
    "    out_cat = np.concatenate(lst, axis = 1)\n",
    "    scaler = StandardScaler()\n",
    "    out_num = scaler.fit_transform(data[var_num].values)\n",
    "    out = np.concatenate([out_num, out_cat], axis = 1)\n",
    "    targets = data['Survived'].values\n",
    "    return out, targets"
   ]
  },
  {
   "cell_type": "code",
   "execution_count": 25,
   "metadata": {},
   "outputs": [],
   "source": [
    "from sklearn.model_selection import KFold\n",
    "kf = KFold(n_splits = 9, random_state = 42)\n",
    "x_all, y_all = process_data(all_data, var_num, var_cat)\n",
    "x = x_all[train_ix]\n",
    "y = y_all[train_ix]    "
   ]
  },
  {
   "cell_type": "markdown",
   "metadata": {},
   "source": [
    "### Decision Tree"
   ]
  },
  {
   "cell_type": "code",
   "execution_count": 26,
   "metadata": {},
   "outputs": [
    {
     "name": "stdout",
     "output_type": "stream",
     "text": [
      "Fitting 9 folds for each of 5 candidates, totalling 45 fits\n"
     ]
    },
    {
     "name": "stderr",
     "output_type": "stream",
     "text": [
      "[Parallel(n_jobs=1)]: Done  45 out of  45 | elapsed:    0.1s finished\n"
     ]
    },
    {
     "data": {
      "text/plain": [
       "GridSearchCV(cv=KFold(n_splits=9, random_state=42, shuffle=False),\n",
       "       error_score='raise',\n",
       "       estimator=DecisionTreeClassifier(class_weight=None, criterion='gini', max_depth=None,\n",
       "            max_features=None, max_leaf_nodes=None,\n",
       "            min_impurity_decrease=0.0, min_impurity_split=None,\n",
       "            min_samples_leaf=1, min_samples_split=2,\n",
       "            min_weight_fraction_leaf=0.0, presort=False, random_state=None,\n",
       "            splitter='best'),\n",
       "       fit_params=None, iid=True, n_jobs=1,\n",
       "       param_grid={'min_impurity_decrease': [0, 0.001, 0.005, 0.01, 0.05]},\n",
       "       pre_dispatch='2*n_jobs', refit=True, return_train_score='warn',\n",
       "       scoring='accuracy', verbose=1)"
      ]
     },
     "execution_count": 26,
     "metadata": {},
     "output_type": "execute_result"
    }
   ],
   "source": [
    "from sklearn.tree import DecisionTreeClassifier\n",
    "from sklearn.metrics import accuracy_score\n",
    "from sklearn.model_selection import GridSearchCV\n",
    "\n",
    "param = {'min_impurity_decrease': [0, 0.001, 0.005, 0.01, 0.05]}\n",
    "dtc = DecisionTreeClassifier()\n",
    "clf = GridSearchCV(dtc, param, cv = kf, verbose = 1, scoring = 'accuracy')\n",
    "clf.fit(x, y)"
   ]
  },
  {
   "cell_type": "code",
   "execution_count": 27,
   "metadata": {},
   "outputs": [
    {
     "name": "stdout",
     "output_type": "stream",
     "text": [
      "{'min_impurity_decrease': 0.005}\n",
      "0.8204264870931538\n"
     ]
    }
   ],
   "source": [
    "print(clf.best_params_)\n",
    "print(clf.best_score_)"
   ]
  },
  {
   "cell_type": "code",
   "execution_count": 28,
   "metadata": {},
   "outputs": [
    {
     "data": {
      "text/plain": [
       "array([0.        , 0.        , 0.03021405, 0.03452053, 0.02442377,\n",
       "       0.05513946, 0.        , 0.        , 0.        , 0.        ,\n",
       "       0.        , 0.        , 0.15127986, 0.60402135, 0.        ,\n",
       "       0.        , 0.        , 0.        , 0.        , 0.        ,\n",
       "       0.        , 0.        , 0.        , 0.06843938, 0.        ,\n",
       "       0.        , 0.        , 0.        , 0.        , 0.03196159,\n",
       "       0.        , 0.        , 0.        , 0.        , 0.        ,\n",
       "       0.        , 0.        , 0.        , 0.        , 0.        ,\n",
       "       0.        , 0.        , 0.        , 0.        , 0.        ])"
      ]
     },
     "execution_count": 28,
     "metadata": {},
     "output_type": "execute_result"
    }
   ],
   "source": [
    "dtc = DecisionTreeClassifier(min_impurity_decrease = 0.005)\n",
    "dtc.fit(x, y)\n",
    "dtc.feature_importances_"
   ]
  },
  {
   "cell_type": "markdown",
   "metadata": {},
   "source": [
    "### Support Vector Machine"
   ]
  },
  {
   "cell_type": "code",
   "execution_count": 29,
   "metadata": {},
   "outputs": [
    {
     "name": "stdout",
     "output_type": "stream",
     "text": [
      "Fitting 9 folds for each of 36 candidates, totalling 324 fits\n"
     ]
    },
    {
     "name": "stderr",
     "output_type": "stream",
     "text": [
      "[Parallel(n_jobs=1)]: Done 324 out of 324 | elapsed:  2.3min finished\n"
     ]
    },
    {
     "data": {
      "text/plain": [
       "GridSearchCV(cv=KFold(n_splits=9, random_state=42, shuffle=False),\n",
       "       error_score='raise',\n",
       "       estimator=SVC(C=1.0, cache_size=200, class_weight=None, coef0=0.0,\n",
       "  decision_function_shape='ovr', degree=3, gamma='auto', kernel='rbf',\n",
       "  max_iter=-1, probability=False, random_state=None, shrinking=True,\n",
       "  tol=0.001, verbose=False),\n",
       "       fit_params=None, iid=True, n_jobs=1,\n",
       "       param_grid=[{'C': [1, 10, 100, 1000], 'kernel': ['linear']}, {'C': [1, 10, 100, 1000], 'gamma': [0.1, 0.01, 0.001], 'kernel': ['rbf']}, {'C': [1, 10, 100, 1000], 'degree': [2, 3, 4, 5, 6], 'kernel': ['poly']}],\n",
       "       pre_dispatch='2*n_jobs', refit=True, return_train_score='warn',\n",
       "       scoring='accuracy', verbose=1)"
      ]
     },
     "execution_count": 29,
     "metadata": {},
     "output_type": "execute_result"
    }
   ],
   "source": [
    "from sklearn.svm import SVC\n",
    "param = [\n",
    "    {'C': [1, 10, 100, 1000], 'kernel':['linear']},\n",
    "    {'C': [1, 10, 100, 1000], 'gamma': [0.1, 0.01, 0.001], 'kernel':['rbf']},\n",
    "    {'C': [1, 10, 100, 1000], 'degree': [2, 3, 4, 5, 6], 'kernel':['poly']}\n",
    "]\n",
    "svc = SVC()\n",
    "clf = GridSearchCV(svc, param, cv = kf, verbose = 1, scoring = 'accuracy')\n",
    "clf.fit(x, y)"
   ]
  },
  {
   "cell_type": "code",
   "execution_count": 30,
   "metadata": {},
   "outputs": [
    {
     "name": "stdout",
     "output_type": "stream",
     "text": [
      "0.8148148148148148\n",
      "{'C': 10, 'gamma': 0.01, 'kernel': 'rbf'}\n"
     ]
    }
   ],
   "source": [
    "print(clf.best_score_)\n",
    "print(clf.best_params_)"
   ]
  },
  {
   "cell_type": "code",
   "execution_count": 31,
   "metadata": {},
   "outputs": [
    {
     "data": {
      "text/plain": [
       "array([[ 0.71076309,  0.48128777,  0.87089402, ...,  0.        ,\n",
       "         0.        ,  0.        ],\n",
       "       [-0.4449995 , -0.47908676,  1.38393622, ...,  0.        ,\n",
       "         0.        ,  0.        ],\n",
       "       [-0.4449995 , -0.47908676,  1.75303133, ...,  0.        ,\n",
       "         0.        ,  0.        ],\n",
       "       ...,\n",
       "       [-0.4449995 , -0.47908676, -0.50398526, ...,  0.        ,\n",
       "         0.        ,  0.        ],\n",
       "       [-0.4449995 , -0.47908676, -0.31390128, ...,  0.        ,\n",
       "         0.        ,  0.        ],\n",
       "       [-0.4449995 , -0.47908676, -0.31390128, ...,  0.        ,\n",
       "         0.        ,  0.        ]])"
      ]
     },
     "execution_count": 31,
     "metadata": {},
     "output_type": "execute_result"
    }
   ],
   "source": [
    "svc = SVC(C = 1000, gamma = 0.001, kernel ='rbf')\n",
    "svc.fit(x, y)\n",
    "svc.support_vectors_"
   ]
  },
  {
   "cell_type": "markdown",
   "metadata": {},
   "source": [
    "### Logistic Regression"
   ]
  },
  {
   "cell_type": "code",
   "execution_count": 32,
   "metadata": {},
   "outputs": [
    {
     "name": "stdout",
     "output_type": "stream",
     "text": [
      "Fitting 9 folds for each of 4 candidates, totalling 36 fits\n"
     ]
    },
    {
     "name": "stderr",
     "output_type": "stream",
     "text": [
      "[Parallel(n_jobs=1)]: Done  36 out of  36 | elapsed:    0.2s finished\n"
     ]
    },
    {
     "data": {
      "text/plain": [
       "GridSearchCV(cv=KFold(n_splits=9, random_state=42, shuffle=False),\n",
       "       error_score='raise',\n",
       "       estimator=LogisticRegression(C=1.0, class_weight=None, dual=False, fit_intercept=True,\n",
       "          intercept_scaling=1, max_iter=100, multi_class='ovr', n_jobs=1,\n",
       "          penalty='l2', random_state=None, solver='liblinear', tol=0.0001,\n",
       "          verbose=0, warm_start=False),\n",
       "       fit_params=None, iid=True, n_jobs=1,\n",
       "       param_grid={'C': [1, 10, 100, 1000]}, pre_dispatch='2*n_jobs',\n",
       "       refit=True, return_train_score='warn', scoring='accuracy',\n",
       "       verbose=1)"
      ]
     },
     "execution_count": 32,
     "metadata": {},
     "output_type": "execute_result"
    }
   ],
   "source": [
    "from sklearn.linear_model import LogisticRegression\n",
    "param = {'C': [1, 10, 100, 1000]}\n",
    "lr = LogisticRegression()\n",
    "clf = GridSearchCV(lr, param, cv = kf, verbose = 1, scoring = 'accuracy')\n",
    "clf.fit(x, y)"
   ]
  },
  {
   "cell_type": "code",
   "execution_count": 33,
   "metadata": {},
   "outputs": [
    {
     "name": "stdout",
     "output_type": "stream",
     "text": [
      "0.7991021324354658\n",
      "{'C': 10}\n"
     ]
    }
   ],
   "source": [
    "print(clf.best_score_)\n",
    "print(clf.best_params_)"
   ]
  },
  {
   "cell_type": "code",
   "execution_count": 34,
   "metadata": {},
   "outputs": [
    {
     "data": {
      "text/plain": [
       "array([[-7.84798303e-03, -2.54908400e-01,  2.97756322e-01,\n",
       "        -1.71958610e-01,  1.28934432e-01, -7.48868016e-02,\n",
       "         8.85927320e-02, -2.24141365e-03, -4.78796422e-01,\n",
       "         5.70786171e-01,  3.72087155e-01,  3.89988574e-01,\n",
       "        -5.83734661e-01,  1.52369355e+00, -1.34535248e+00,\n",
       "         1.56400740e-01,  5.03932889e-01,  4.17976998e-02,\n",
       "         9.77351174e-01,  1.50459693e+00,  4.68934017e-01,\n",
       "        -1.52841225e+00, -1.55703270e+00, -3.89227431e-01,\n",
       "         5.31026200e-01, -5.40661850e-02,  5.41623843e-02,\n",
       "        -3.52781332e-01, -1.08408591e-02,  2.87292465e+00,\n",
       "         7.16339711e-01,  8.97679788e-01,  2.06437766e-01,\n",
       "        -1.03799400e-01,  3.48743208e-01,  6.64289357e-01,\n",
       "        -1.49543470e-01, -9.14442451e-02, -5.64086630e-01,\n",
       "        -4.86925974e-01, -1.08393904e+00, -9.69122090e-01,\n",
       "        -1.86443492e+00, -2.12825462e+00,  1.92431784e+00]])"
      ]
     },
     "execution_count": 34,
     "metadata": {},
     "output_type": "execute_result"
    }
   ],
   "source": [
    "lr = LogisticRegression(C = 10)\n",
    "lr.fit(x, y)\n",
    "lr.coef_"
   ]
  },
  {
   "cell_type": "markdown",
   "metadata": {},
   "source": [
    "### Voting Classifier"
   ]
  },
  {
   "cell_type": "code",
   "execution_count": 35,
   "metadata": {},
   "outputs": [],
   "source": [
    "from sklearn.ensemble import VotingClassifier\n",
    "dtc = DecisionTreeClassifier(min_impurity_decrease = 0.005)\n",
    "svc = SVC(C = 1000, gamma = 0.001, kernel = 'rbf')\n",
    "lr = LogisticRegression(C = 10)\n",
    "eclf = VotingClassifier(estimators = [('dtc', dtc), ('svc', svc), ('lr', lr)], voting = 'hard')\n",
    "cv_res = []\n",
    "for tr_ix, te_ix in kf.split(x):\n",
    "    x_train, x_test, y_train, y_test = x[tr_ix], x[te_ix], y[tr_ix], y[te_ix]\n",
    "    dtc.fit(x_train, y_train)\n",
    "    svc.fit(x_train, y_train)\n",
    "    lr.fit(x_train, y_train)\n",
    "    cv_res.append(accuracy_score(y_test, [int(y1 + y2 + y3 >= 2) for y1, y2, y3 in zip(dtc.predict(x_test), svc.predict(x_test), lr.predict(x_test))]))"
   ]
  },
  {
   "cell_type": "code",
   "execution_count": 36,
   "metadata": {},
   "outputs": [
    {
     "data": {
      "text/plain": [
       "0.8125701459034792"
      ]
     },
     "execution_count": 36,
     "metadata": {},
     "output_type": "execute_result"
    }
   ],
   "source": [
    "np.mean(cv_res)"
   ]
  },
  {
   "cell_type": "markdown",
   "metadata": {},
   "source": [
    "### Random Forest"
   ]
  },
  {
   "cell_type": "code",
   "execution_count": 37,
   "metadata": {},
   "outputs": [
    {
     "name": "stdout",
     "output_type": "stream",
     "text": [
      "Fitting 9 folds for each of 120 candidates, totalling 1080 fits\n"
     ]
    },
    {
     "name": "stderr",
     "output_type": "stream",
     "text": [
      "[Parallel(n_jobs=1)]: Done 1080 out of 1080 | elapsed: 10.8min finished\n"
     ]
    },
    {
     "data": {
      "text/plain": [
       "GridSearchCV(cv=KFold(n_splits=9, random_state=42, shuffle=False),\n",
       "       error_score='raise',\n",
       "       estimator=RandomForestClassifier(bootstrap=True, class_weight=None, criterion='gini',\n",
       "            max_depth=None, max_features='auto', max_leaf_nodes=None,\n",
       "            min_impurity_decrease=0.0, min_impurity_split=None,\n",
       "            min_samples_leaf=1, min_samples_split=2,\n",
       "            min_weight_fraction_leaf=0.0, n_estimators=10, n_jobs=1,\n",
       "            oob_score=False, random_state=None, verbose=0,\n",
       "            warm_start=False),\n",
       "       fit_params=None, iid=True, n_jobs=1,\n",
       "       param_grid={'n_estimators': [10, 100, 500, 1000], 'max_depth': [1, 2, None], 'max_features': [None, 'sqrt'], 'min_impurity_decrease': [0, 0.001, 0.005, 0.01, 0.05]},\n",
       "       pre_dispatch='2*n_jobs', refit=True, return_train_score='warn',\n",
       "       scoring='accuracy', verbose=1)"
      ]
     },
     "execution_count": 37,
     "metadata": {},
     "output_type": "execute_result"
    }
   ],
   "source": [
    "from sklearn.ensemble import RandomForestClassifier\n",
    "param = {\n",
    "    'n_estimators': [10, 100, 500, 1000,],\n",
    "    'max_depth': [1, 2, None],\n",
    "    'max_features': [None, 'sqrt'], \n",
    "    'min_impurity_decrease': [0, 0.001, 0.005, 0.01, 0.05]\n",
    "}\n",
    "rfc = RandomForestClassifier()\n",
    "clf = GridSearchCV(rfc, param, cv = kf, verbose = 1, scoring = 'accuracy')\n",
    "clf.fit(x, y)"
   ]
  },
  {
   "cell_type": "code",
   "execution_count": 38,
   "metadata": {},
   "outputs": [
    {
     "name": "stdout",
     "output_type": "stream",
     "text": [
      "0.8271604938271605\n",
      "{'max_depth': None, 'max_features': None, 'min_impurity_decrease': 0.005, 'n_estimators': 500}\n"
     ]
    }
   ],
   "source": [
    "print(clf.best_score_)\n",
    "print(clf.best_params_)"
   ]
  },
  {
   "cell_type": "markdown",
   "metadata": {},
   "source": [
    "### Gradient Boosting Machine"
   ]
  },
  {
   "cell_type": "code",
   "execution_count": 39,
   "metadata": {},
   "outputs": [
    {
     "name": "stdout",
     "output_type": "stream",
     "text": [
      "Fitting 9 folds for each of 216 candidates, totalling 1944 fits\n"
     ]
    },
    {
     "name": "stderr",
     "output_type": "stream",
     "text": [
      "[Parallel(n_jobs=1)]: Done 1944 out of 1944 | elapsed: 15.0min finished\n"
     ]
    },
    {
     "data": {
      "text/plain": [
       "GridSearchCV(cv=KFold(n_splits=9, random_state=42, shuffle=False),\n",
       "       error_score='raise',\n",
       "       estimator=GradientBoostingClassifier(criterion='friedman_mse', init=None,\n",
       "              learning_rate=0.1, loss='deviance', max_depth=3,\n",
       "              max_features=None, max_leaf_nodes=None,\n",
       "              min_impurity_decrease=0.0, min_impurity_split=None,\n",
       "              min_samples_leaf=1, min_samples_split=2,\n",
       "              min_weight_fraction_leaf=0.0, n_estimators=100,\n",
       "              presort='auto', random_state=None, subsample=1.0, verbose=0,\n",
       "              warm_start=False),\n",
       "       fit_params=None, iid=True, n_jobs=1,\n",
       "       param_grid={'n_estimators': [10, 100, 500], 'max_depth': [1, 2, None], 'max_features': [None, 'sqrt'], 'min_impurity_decrease': [0, 0.001, 0.005, 0.01], 'learning_rate': [0.1, 0.01, 0.001]},\n",
       "       pre_dispatch='2*n_jobs', refit=True, return_train_score='warn',\n",
       "       scoring='accuracy', verbose=1)"
      ]
     },
     "execution_count": 39,
     "metadata": {},
     "output_type": "execute_result"
    }
   ],
   "source": [
    "from sklearn.ensemble import GradientBoostingClassifier\n",
    "param = {\n",
    "    'n_estimators': [10, 100, 500,],\n",
    "    'max_depth': [1, 2, None],\n",
    "    'max_features': [None, 'sqrt'], \n",
    "    'min_impurity_decrease': [0, 0.001, 0.005, 0.01, ], \n",
    "    'learning_rate': [0.1, 0.01, 0.001]\n",
    "}\n",
    "gbc = GradientBoostingClassifier()\n",
    "clf = GridSearchCV(gbc, param, cv = kf, verbose = 1, scoring = 'accuracy')\n",
    "clf.fit(x, y)"
   ]
  },
  {
   "cell_type": "code",
   "execution_count": 40,
   "metadata": {},
   "outputs": [
    {
     "name": "stdout",
     "output_type": "stream",
     "text": [
      "0.8148148148148148\n",
      "{'learning_rate': 0.01, 'max_depth': 2, 'max_features': 'sqrt', 'min_impurity_decrease': 0, 'n_estimators': 500}\n"
     ]
    }
   ],
   "source": [
    "print(clf.best_score_)\n",
    "print(clf.best_params_)"
   ]
  },
  {
   "cell_type": "markdown",
   "metadata": {},
   "source": [
    "### Neural Network"
   ]
  },
  {
   "cell_type": "code",
   "execution_count": 41,
   "metadata": {},
   "outputs": [
    {
     "name": "stderr",
     "output_type": "stream",
     "text": [
      "Using TensorFlow backend.\n"
     ]
    },
    {
     "name": "stdout",
     "output_type": "stream",
     "text": [
      "Train on 596 samples, validate on 295 samples\n",
      "Epoch 1/40\n",
      "596/596 [==============================] - 1s 2ms/step - loss: 0.6489 - acc: 0.5772 - val_loss: 0.6007 - val_acc: 0.6644\n",
      "Epoch 2/40\n",
      "596/596 [==============================] - 1s 1ms/step - loss: 0.5303 - acc: 0.7232 - val_loss: 0.5762 - val_acc: 0.7186\n",
      "Epoch 3/40\n",
      "596/596 [==============================] - 1s 1ms/step - loss: 0.4862 - acc: 0.7785 - val_loss: 0.5328 - val_acc: 0.7627\n",
      "Epoch 4/40\n",
      "596/596 [==============================] - 1s 1ms/step - loss: 0.4634 - acc: 0.7785 - val_loss: 0.5029 - val_acc: 0.7831\n",
      "Epoch 5/40\n",
      "596/596 [==============================] - 1s 1ms/step - loss: 0.4356 - acc: 0.8054 - val_loss: 0.5302 - val_acc: 0.7831\n",
      "Epoch 6/40\n",
      "596/596 [==============================] - 1s 1ms/step - loss: 0.4485 - acc: 0.8020 - val_loss: 0.5012 - val_acc: 0.8102\n",
      "Epoch 7/40\n",
      "596/596 [==============================] - 1s 1ms/step - loss: 0.4293 - acc: 0.8188 - val_loss: 0.4977 - val_acc: 0.8169\n",
      "Epoch 8/40\n",
      "596/596 [==============================] - 1s 1ms/step - loss: 0.4350 - acc: 0.8154 - val_loss: 0.5108 - val_acc: 0.8203\n",
      "Epoch 9/40\n",
      "596/596 [==============================] - 1s 1ms/step - loss: 0.4260 - acc: 0.8188 - val_loss: 0.5111 - val_acc: 0.8136\n",
      "Epoch 10/40\n",
      "596/596 [==============================] - 1s 1ms/step - loss: 0.4276 - acc: 0.8289 - val_loss: 0.5024 - val_acc: 0.8271\n",
      "Epoch 11/40\n",
      "596/596 [==============================] - 1s 1ms/step - loss: 0.3967 - acc: 0.8440 - val_loss: 0.5299 - val_acc: 0.7966\n",
      "Epoch 12/40\n",
      "596/596 [==============================] - 1s 1ms/step - loss: 0.4172 - acc: 0.8272 - val_loss: 0.4938 - val_acc: 0.8271\n",
      "Epoch 13/40\n",
      "596/596 [==============================] - 1s 1ms/step - loss: 0.4026 - acc: 0.8456 - val_loss: 0.5064 - val_acc: 0.8305\n",
      "Epoch 14/40\n",
      "596/596 [==============================] - 1s 1ms/step - loss: 0.4189 - acc: 0.8356 - val_loss: 0.4891 - val_acc: 0.8169\n",
      "Epoch 15/40\n",
      "596/596 [==============================] - 1s 1ms/step - loss: 0.4157 - acc: 0.8406 - val_loss: 0.5006 - val_acc: 0.8203\n",
      "Epoch 16/40\n",
      "596/596 [==============================] - 1s 1ms/step - loss: 0.4005 - acc: 0.8372 - val_loss: 0.4992 - val_acc: 0.8034\n",
      "Epoch 17/40\n",
      "596/596 [==============================] - 1s 1ms/step - loss: 0.3959 - acc: 0.8456 - val_loss: 0.5153 - val_acc: 0.8000\n",
      "Epoch 18/40\n",
      "596/596 [==============================] - 1s 1ms/step - loss: 0.4336 - acc: 0.8305 - val_loss: 0.5058 - val_acc: 0.8169\n",
      "Epoch 19/40\n",
      "596/596 [==============================] - 1s 1ms/step - loss: 0.4359 - acc: 0.8289 - val_loss: 0.5035 - val_acc: 0.8203\n",
      "Epoch 20/40\n",
      "596/596 [==============================] - 1s 1ms/step - loss: 0.4168 - acc: 0.8440 - val_loss: 0.5165 - val_acc: 0.8237\n",
      "Epoch 21/40\n",
      "596/596 [==============================] - 1s 1ms/step - loss: 0.4069 - acc: 0.8507 - val_loss: 0.5414 - val_acc: 0.8068\n",
      "Epoch 22/40\n",
      "596/596 [==============================] - 1s 1ms/step - loss: 0.4191 - acc: 0.8456 - val_loss: 0.5399 - val_acc: 0.8068\n",
      "Epoch 23/40\n",
      "596/596 [==============================] - 1s 1ms/step - loss: 0.4075 - acc: 0.8456 - val_loss: 0.5433 - val_acc: 0.8237\n",
      "Epoch 24/40\n",
      "596/596 [==============================] - 1s 1ms/step - loss: 0.4229 - acc: 0.8490 - val_loss: 0.5281 - val_acc: 0.8203\n",
      "Epoch 25/40\n",
      "596/596 [==============================] - 1s 1ms/step - loss: 0.4125 - acc: 0.8507 - val_loss: 0.5483 - val_acc: 0.8203\n",
      "Epoch 26/40\n",
      "596/596 [==============================] - 1s 1ms/step - loss: 0.4083 - acc: 0.8658 - val_loss: 0.5718 - val_acc: 0.8237\n",
      "Epoch 27/40\n",
      "596/596 [==============================] - 1s 1ms/step - loss: 0.4112 - acc: 0.8557 - val_loss: 0.5661 - val_acc: 0.8102\n",
      "Epoch 28/40\n",
      "596/596 [==============================] - 1s 1ms/step - loss: 0.4043 - acc: 0.8456 - val_loss: 0.5554 - val_acc: 0.8203\n",
      "Epoch 29/40\n",
      "596/596 [==============================] - 1s 1ms/step - loss: 0.4177 - acc: 0.8507 - val_loss: 0.5493 - val_acc: 0.8305\n",
      "Epoch 30/40\n",
      "596/596 [==============================] - 1s 1ms/step - loss: 0.4030 - acc: 0.8523 - val_loss: 0.5621 - val_acc: 0.8102\n",
      "Epoch 31/40\n",
      "596/596 [==============================] - 1s 1ms/step - loss: 0.4210 - acc: 0.8540 - val_loss: 0.5257 - val_acc: 0.8203\n",
      "Epoch 32/40\n",
      "596/596 [==============================] - 1s 1ms/step - loss: 0.4152 - acc: 0.8507 - val_loss: 0.5587 - val_acc: 0.8237\n",
      "Epoch 33/40\n",
      "596/596 [==============================] - 1s 1ms/step - loss: 0.4318 - acc: 0.8473 - val_loss: 0.5416 - val_acc: 0.8305\n",
      "Epoch 34/40\n",
      "596/596 [==============================] - 1s 1ms/step - loss: 0.3985 - acc: 0.8708 - val_loss: 0.5613 - val_acc: 0.8169\n",
      "Epoch 35/40\n",
      "596/596 [==============================] - 1s 1ms/step - loss: 0.4336 - acc: 0.8440 - val_loss: 0.5834 - val_acc: 0.8102\n",
      "Epoch 36/40\n",
      "596/596 [==============================] - 1s 1ms/step - loss: 0.4433 - acc: 0.8440 - val_loss: 0.5720 - val_acc: 0.8305\n",
      "Epoch 37/40\n",
      "596/596 [==============================] - 1s 1ms/step - loss: 0.3862 - acc: 0.8691 - val_loss: 0.6390 - val_acc: 0.8203\n",
      "Epoch 38/40\n",
      "596/596 [==============================] - 1s 1ms/step - loss: 0.4528 - acc: 0.8540 - val_loss: 0.5840 - val_acc: 0.8237\n",
      "Epoch 39/40\n",
      "596/596 [==============================] - 1s 1ms/step - loss: 0.4194 - acc: 0.8523 - val_loss: 0.5795 - val_acc: 0.8271\n",
      "Epoch 40/40\n",
      "596/596 [==============================] - 1s 1ms/step - loss: 0.4209 - acc: 0.8658 - val_loss: 0.6132 - val_acc: 0.8000\n"
     ]
    }
   ],
   "source": [
    "from tensorflow import set_random_seed\n",
    "set_random_seed(42)\n",
    "\n",
    "from keras import models, layers\n",
    "model = models.Sequential()\n",
    "model.add(layers.Dense(16, activation = 'relu', input_shape = (x.shape[1], )))\n",
    "model.add(layers.Dropout(0.1))\n",
    "model.add(layers.Dense(16, activation = 'relu'))\n",
    "model.add(layers.Dropout(0.1))\n",
    "model.add(layers.Dense(1, activation = 'sigmoid'))\n",
    "model.compile(optimizer = 'rmsprop', loss = 'binary_crossentropy', metrics = ['accuracy'])\n",
    "\n",
    "res = model.fit(x, y, epochs = 40, batch_size = 1, validation_split = 0.33)"
   ]
  },
  {
   "cell_type": "code",
   "execution_count": 42,
   "metadata": {},
   "outputs": [
    {
     "data": {
      "image/png": "[encoded data removed]",
      "text/plain": [
       "<Figure size 432x288 with 1 Axes>"
      ]
     },
     "metadata": {},
     "output_type": "display_data"
    }
   ],
   "source": [
    "n_epochs = len(res.history['acc'])\n",
    "plt.plot(range(n_epochs), res.history['acc'], color = 'b', label = 'training')\n",
    "plt.plot(range(n_epochs), res.history['val_acc'], color = 'r', label = 'validation')\n",
    "plt.legend()\n",
    "plt.show()"
   ]
  },
  {
   "cell_type": "markdown",
   "metadata": {},
   "source": [
    "## Output Predictions\n",
    "A key finding in this exercise is that tree-based algorithm performs better than its alternatives, such as neural network, logistic regression, or support vector machine.  So far the best performing algorithms are random forest and gradient boosting machine.\n",
    "### Final Models"
   ]
  },
  {
   "cell_type": "code",
   "execution_count": 43,
   "metadata": {},
   "outputs": [],
   "source": [
    "x_test = x_all[test_ix]"
   ]
  },
  {
   "cell_type": "code",
   "execution_count": 44,
   "metadata": {},
   "outputs": [],
   "source": [
    "dtc = DecisionTreeClassifier(min_impurity_decrease = 0.005)\n",
    "dtc.fit(x, y)\n",
    "dtc_pred = dtc.predict(x_test)"
   ]
  },
  {
   "cell_type": "code",
   "execution_count": 45,
   "metadata": {},
   "outputs": [],
   "source": [
    "svc = SVC(C = 1000, gamma = 0.001, kernel = 'rbf')\n",
    "svc.fit(x, y)\n",
    "svc_pred = svc.predict(x_test)"
   ]
  },
  {
   "cell_type": "code",
   "execution_count": 46,
   "metadata": {},
   "outputs": [],
   "source": [
    "lr = LogisticRegression(C = 10)\n",
    "lr.fit(x, y)\n",
    "lr_pred = lr.predict(x_test)"
   ]
  },
  {
   "cell_type": "code",
   "execution_count": 47,
   "metadata": {},
   "outputs": [],
   "source": [
    "vote_pred = [int(x + y + z >= 2) for x, y, z in zip(lr_pred, svc_pred, dtc_pred)]"
   ]
  },
  {
   "cell_type": "code",
   "execution_count": 48,
   "metadata": {},
   "outputs": [],
   "source": [
    "rfc = RandomForestClassifier(\n",
    "    max_depth = None, \n",
    "    max_features = None, \n",
    "    min_impurity_decrease = 0.005, \n",
    "    n_estimators = 100\n",
    ")\n",
    "rfc.fit(x, y)\n",
    "rfc_pred = rfc.predict(x_test)"
   ]
  },
  {
   "cell_type": "code",
   "execution_count": 49,
   "metadata": {},
   "outputs": [],
   "source": [
    "gbc = GradientBoostingClassifier(\n",
    "    max_depth = 2, \n",
    "    max_features = 'sqrt', \n",
    "    min_impurity_decrease = 0.005, \n",
    "    n_estimators = 100, \n",
    "    learning_rate = 0.1\n",
    ")\n",
    "gbc.fit(x, y)\n",
    "gbc_pred = rfc.predict(x_test)"
   ]
  },
  {
   "cell_type": "code",
   "execution_count": 50,
   "metadata": {},
   "outputs": [
    {
     "name": "stdout",
     "output_type": "stream",
     "text": [
      "Epoch 1/10\n",
      "891/891 [==============================] - 1s 1ms/step - loss: 0.6011 - acc: 0.6622\n",
      "Epoch 2/10\n",
      "891/891 [==============================] - 1s 893us/step - loss: 0.5006 - acc: 0.7654\n",
      "Epoch 3/10\n",
      "891/891 [==============================] - 1s 894us/step - loss: 0.4896 - acc: 0.7935\n",
      "Epoch 4/10\n",
      "891/891 [==============================] - 1s 890us/step - loss: 0.4684 - acc: 0.8025\n",
      "Epoch 5/10\n",
      "891/891 [==============================] - 1s 898us/step - loss: 0.4656 - acc: 0.8013\n",
      "Epoch 6/10\n",
      "891/891 [==============================] - 1s 890us/step - loss: 0.4517 - acc: 0.8114\n",
      "Epoch 7/10\n",
      "891/891 [==============================] - 1s 901us/step - loss: 0.4644 - acc: 0.8260\n",
      "Epoch 8/10\n",
      "891/891 [==============================] - 1s 893us/step - loss: 0.4570 - acc: 0.8159\n",
      "Epoch 9/10\n",
      "891/891 [==============================] - 1s 892us/step - loss: 0.4292 - acc: 0.8350\n",
      "Epoch 10/10\n",
      "891/891 [==============================] - 1s 893us/step - loss: 0.4330 - acc: 0.8350\n"
     ]
    }
   ],
   "source": [
    "set_random_seed(42)\n",
    "\n",
    "nnc = models.Sequential()\n",
    "nnc.add(layers.Dense(16, activation = 'relu', input_shape = (x.shape[1], )))\n",
    "nnc.add(layers.Dropout(0.1))\n",
    "nnc.add(layers.Dense(16, activation = 'relu'))\n",
    "nnc.add(layers.Dropout(0.1))\n",
    "nnc.add(layers.Dense(1, activation = 'sigmoid'))\n",
    "nnc.compile(optimizer = 'rmsprop', loss = 'binary_crossentropy', metrics = ['accuracy'])\n",
    "\n",
    "nnc.fit(x, y, epochs = 10, batch_size = 1)\n",
    "nnc_pred = [int(x > 0.5) for x in nnc.predict(x_test)]"
   ]
  },
  {
   "cell_type": "markdown",
   "metadata": {},
   "source": [
    "### Output Final Results"
   ]
  },
  {
   "cell_type": "code",
   "execution_count": 51,
   "metadata": {},
   "outputs": [],
   "source": [
    "yhat = gbc_pred\n",
    "PassengerId = all_data.iloc[test_ix]['PassengerId'].reset_index()\n",
    "Survived = pd.Series(yhat)\n",
    "\n",
    "out = pd.concat([PassengerId, Survived], axis = 1, ignore_index = True)\n",
    "out.columns = ['index', 'PassengerId', 'Survived']\n",
    "out.set_index('index', inplace = True)\n",
    "out.sort_values(['PassengerId']).to_csv('fin_pred.csv', index = False)"
   ]
  }
 ],
 "metadata": {
  "kernelspec": {
   "display_name": "Python 3",
   "language": "python",
   "name": "python3"
  },
  "language_info": {
   "codemirror_mode": {
    "name": "ipython",
    "version": 3
   },
   "file_extension": ".py",
   "mimetype": "text/x-python",
   "name": "python",
   "nbconvert_exporter": "python",
   "pygments_lexer": "ipython3",
   "version": "3.6.2"
  }
 },
 "nbformat": 4,
 "nbformat_minor": 2
}
